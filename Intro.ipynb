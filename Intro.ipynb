{
  "metadata": {
    "kernelspec": {
      "name": "python",
      "display_name": "Python (Pyodide)",
      "language": "python"
    },
    "language_info": {
      "codemirror_mode": {
        "name": "python",
        "version": 3
      },
      "file_extension": ".py",
      "mimetype": "text/x-python",
      "name": "python",
      "nbconvert_exporter": "python",
      "pygments_lexer": "ipython3",
      "version": "3.8"
    }
  },
  "nbformat_minor": 5,
  "nbformat": 4,
  "cells": [
    {
      "id": "76283255-83ee-4991-8546-12c5168b3756",
      "cell_type": "code",
      "source": "import pandas as pd\n\nl=pd.read_csv(\"input.csv\")\n",
      "metadata": {
        "trusted": true
      },
      "outputs": [],
      "execution_count": 2
    },
    {
      "id": "63b542c6-e765-4df8-b5d4-cefda8e2bd13",
      "cell_type": "code",
      "source": "l\n",
      "metadata": {
        "trusted": true
      },
      "outputs": [
        {
          "execution_count": 42,
          "output_type": "execute_result",
          "data": {
            "text/plain": "   Employee Code  Manager Employee Code Date of Joining Date of Exit  \\\n0              1                    NaN      2021-01-01          NaN   \n1              2                    1.0      2021-01-01          NaN   \n2              3                    1.0      2021-01-01   2023-12-31   \n\n   Compensation  Compensation 1 Compensation 1 date  Compensation 2  \\\n0         20000             NaN                 NaN             NaN   \n1         20000         10000.0          2022-01-01         20000.0   \n2         20000         10000.0          2022-01-01         20000.0   \n\n  Compensation 2 date  Review 1 Review 1 date  Review 2 Review 2 date  \\\n0                 NaN       NaN           NaN       NaN           NaN   \n1          2023-01-01       9.0    2021-06-01       9.5    2022-06-01   \n2          2023-01-01       9.0    2021-06-01       9.5    2022-06-01   \n\n   Engagement 1 Engagement 1 date  Engagement 2 Engagement 2 date  \n0           NaN               NaN           NaN               NaN  \n1           4.0        2021-03-01           5.0        2022-03-01  \n2           4.0        2021-03-01           5.0        2022-03-01  ",
            "text/html": "<div>\n<style scoped>\n    .dataframe tbody tr th:only-of-type {\n        vertical-align: middle;\n    }\n\n    .dataframe tbody tr th {\n        vertical-align: top;\n    }\n\n    .dataframe thead th {\n        text-align: right;\n    }\n</style>\n<table border=\"1\" class=\"dataframe\">\n  <thead>\n    <tr style=\"text-align: right;\">\n      <th></th>\n      <th>Employee Code</th>\n      <th>Manager Employee Code</th>\n      <th>Date of Joining</th>\n      <th>Date of Exit</th>\n      <th>Compensation</th>\n      <th>Compensation 1</th>\n      <th>Compensation 1 date</th>\n      <th>Compensation 2</th>\n      <th>Compensation 2 date</th>\n      <th>Review 1</th>\n      <th>Review 1 date</th>\n      <th>Review 2</th>\n      <th>Review 2 date</th>\n      <th>Engagement 1</th>\n      <th>Engagement 1 date</th>\n      <th>Engagement 2</th>\n      <th>Engagement 2 date</th>\n    </tr>\n  </thead>\n  <tbody>\n    <tr>\n      <th>0</th>\n      <td>1</td>\n      <td>NaN</td>\n      <td>2021-01-01</td>\n      <td>NaN</td>\n      <td>20000</td>\n      <td>NaN</td>\n      <td>NaN</td>\n      <td>NaN</td>\n      <td>NaN</td>\n      <td>NaN</td>\n      <td>NaN</td>\n      <td>NaN</td>\n      <td>NaN</td>\n      <td>NaN</td>\n      <td>NaN</td>\n      <td>NaN</td>\n      <td>NaN</td>\n    </tr>\n    <tr>\n      <th>1</th>\n      <td>2</td>\n      <td>1.0</td>\n      <td>2021-01-01</td>\n      <td>NaN</td>\n      <td>20000</td>\n      <td>10000.0</td>\n      <td>2022-01-01</td>\n      <td>20000.0</td>\n      <td>2023-01-01</td>\n      <td>9.0</td>\n      <td>2021-06-01</td>\n      <td>9.5</td>\n      <td>2022-06-01</td>\n      <td>4.0</td>\n      <td>2021-03-01</td>\n      <td>5.0</td>\n      <td>2022-03-01</td>\n    </tr>\n    <tr>\n      <th>2</th>\n      <td>3</td>\n      <td>1.0</td>\n      <td>2021-01-01</td>\n      <td>2023-12-31</td>\n      <td>20000</td>\n      <td>10000.0</td>\n      <td>2022-01-01</td>\n      <td>20000.0</td>\n      <td>2023-01-01</td>\n      <td>9.0</td>\n      <td>2021-06-01</td>\n      <td>9.5</td>\n      <td>2022-06-01</td>\n      <td>4.0</td>\n      <td>2021-03-01</td>\n      <td>5.0</td>\n      <td>2022-03-01</td>\n    </tr>\n  </tbody>\n</table>\n</div>"
          },
          "metadata": {}
        }
      ],
      "execution_count": 42
    },
    {
      "id": "6d57aec5-fcf5-4ea4-b46d-68023e3a6df5",
      "cell_type": "code",
      "source": "l8=pd.DataFrame()\nl1=[]\nl2=[]\n\nl3=[\"Compensation\",\"Compensation date\",\"Review\",\"Review date\",\"Engagement\",\"Engagement Date\"]\n\na=5\nb=7\nc=0\n\n#Setting the index for Employer Code\nfor x in l.index:\n  for y in l.iloc[x,[5,7]].values:\n    l1.append(l[\"Employee Code\"][x])      \nl8[\"Employee Code\"]=l1\n\n#Seperating data of each column to be written into a Dataframe \nwhile (a<=14):\n  l2=[]\n  for x in l.index:\n    for y in l.iloc[x,[a,b]].values:\n      l2.append(y)       \n  l8[l3[c]]=l2\n  c=c+1\n\n#To minimize code if else sstatement is added to automaticaly assign to iloc function.    \n  if (a%2!=0): \n    a=a+1\n    b=b+1\n    \n  else: \n    a=a+3\n    b=b+3\n\nl8.to_csv(\"l8.csv\")\n",
      "metadata": {
        "trusted": true
      },
      "outputs": [],
      "execution_count": 3
    },
    {
      "id": "72b1662b-5c57-4375-983d-73c5d0b5eebe",
      "cell_type": "code",
      "source": "l8",
      "metadata": {
        "trusted": true
      },
      "outputs": [
        {
          "execution_count": 4,
          "output_type": "execute_result",
          "data": {
            "text/plain": "   Employee Code  Compensation Compensation date  Review Review date  \\\n0              1           NaN               NaN     NaN         NaN   \n1              1           NaN               NaN     NaN         NaN   \n2              2       10000.0        2022-01-01     9.0  2021-06-01   \n3              2       20000.0        2023-01-01     9.5  2022-06-01   \n4              3       10000.0        2022-01-01     9.0  2021-06-01   \n5              3       20000.0        2023-01-01     9.5  2022-06-01   \n\n   Engagement Engagement Date  \n0         NaN             NaN  \n1         NaN             NaN  \n2         4.0      2021-03-01  \n3         5.0      2022-03-01  \n4         4.0      2021-03-01  \n5         5.0      2022-03-01  ",
            "text/html": "<div>\n<style scoped>\n    .dataframe tbody tr th:only-of-type {\n        vertical-align: middle;\n    }\n\n    .dataframe tbody tr th {\n        vertical-align: top;\n    }\n\n    .dataframe thead th {\n        text-align: right;\n    }\n</style>\n<table border=\"1\" class=\"dataframe\">\n  <thead>\n    <tr style=\"text-align: right;\">\n      <th></th>\n      <th>Employee Code</th>\n      <th>Compensation</th>\n      <th>Compensation date</th>\n      <th>Review</th>\n      <th>Review date</th>\n      <th>Engagement</th>\n      <th>Engagement Date</th>\n    </tr>\n  </thead>\n  <tbody>\n    <tr>\n      <th>0</th>\n      <td>1</td>\n      <td>NaN</td>\n      <td>NaN</td>\n      <td>NaN</td>\n      <td>NaN</td>\n      <td>NaN</td>\n      <td>NaN</td>\n    </tr>\n    <tr>\n      <th>1</th>\n      <td>1</td>\n      <td>NaN</td>\n      <td>NaN</td>\n      <td>NaN</td>\n      <td>NaN</td>\n      <td>NaN</td>\n      <td>NaN</td>\n    </tr>\n    <tr>\n      <th>2</th>\n      <td>2</td>\n      <td>10000.0</td>\n      <td>2022-01-01</td>\n      <td>9.0</td>\n      <td>2021-06-01</td>\n      <td>4.0</td>\n      <td>2021-03-01</td>\n    </tr>\n    <tr>\n      <th>3</th>\n      <td>2</td>\n      <td>20000.0</td>\n      <td>2023-01-01</td>\n      <td>9.5</td>\n      <td>2022-06-01</td>\n      <td>5.0</td>\n      <td>2022-03-01</td>\n    </tr>\n    <tr>\n      <th>4</th>\n      <td>3</td>\n      <td>10000.0</td>\n      <td>2022-01-01</td>\n      <td>9.0</td>\n      <td>2021-06-01</td>\n      <td>4.0</td>\n      <td>2021-03-01</td>\n    </tr>\n    <tr>\n      <th>5</th>\n      <td>3</td>\n      <td>20000.0</td>\n      <td>2023-01-01</td>\n      <td>9.5</td>\n      <td>2022-06-01</td>\n      <td>5.0</td>\n      <td>2022-03-01</td>\n    </tr>\n  </tbody>\n</table>\n</div>"
          },
          "metadata": {}
        }
      ],
      "execution_count": 4
    },
    {
      "id": "3e12d620-6554-419b-8d4b-fe44320732bd",
      "cell_type": "code",
      "source": "l8.to_csv(\"l8.csv\")\n",
      "metadata": {
        "trusted": true
      },
      "outputs": [],
      "execution_count": 5
    },
    {
      "id": "4679eb95-2811-40f8-b7f2-7205396c6d49",
      "cell_type": "code",
      "source": "",
      "metadata": {
        "trusted": true
      },
      "outputs": [],
      "execution_count": null
    }
  ]
}